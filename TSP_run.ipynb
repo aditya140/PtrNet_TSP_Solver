{
  "nbformat": 4,
  "nbformat_minor": 0,
  "metadata": {
    "colab": {
      "name": "TSP_run.ipynb",
      "provenance": [],
      "collapsed_sections": [],
      "machine_shape": "hm",
      "include_colab_link": true
    },
    "kernelspec": {
      "name": "python3",
      "display_name": "Python 3"
    },
    "accelerator": "GPU"
  },
  "cells": [
    {
      "cell_type": "markdown",
      "metadata": {
        "id": "view-in-github",
        "colab_type": "text"
      },
      "source": [
        "<a href=\"https://colab.research.google.com/github/aditya140/PtrNet_TSP_Solver/blob/master/TSP_run.ipynb\" target=\"_parent\"><img src=\"https://colab.research.google.com/assets/colab-badge.svg\" alt=\"Open In Colab\"/></a>"
      ]
    },
    {
      "cell_type": "code",
      "metadata": {
        "id": "9j3b-LB18VEL",
        "colab_type": "code",
        "outputId": "36cd72fa-6787-4db5-a188-a5dd67a63692",
        "colab": {
          "base_uri": "https://localhost:8080/",
          "height": 820
        }
      },
      "source": [
        "!git clone https://github.com/aditya140/PtrNet_TSP_Solver.git\n",
        "!pip install -r /content/PtrNet_TSP_Solver/requirements.txt"
      ],
      "execution_count": 0,
      "outputs": [
        {
          "output_type": "stream",
          "text": [
            "Cloning into 'PtrNet_TSP_Solver'...\n",
            "remote: Enumerating objects: 200, done.\u001b[K\n",
            "remote: Counting objects: 100% (200/200), done.\u001b[K\n",
            "remote: Compressing objects: 100% (127/127), done.\u001b[K\n",
            "remote: Total 200 (delta 109), reused 142 (delta 56), pack-reused 0\u001b[K\n",
            "Receiving objects: 100% (200/200), 16.80 MiB | 35.25 MiB/s, done.\n",
            "Resolving deltas: 100% (109/109), done.\n",
            "Collecting mlrose\n",
            "  Downloading https://files.pythonhosted.org/packages/0d/f8/79e77a40f6e8988e3ecc9ead8a28024ee43df9c99fce2209037c9e6f9e4a/mlrose-1.3.0-py3-none-any.whl\n",
            "Collecting ortools\n",
            "\u001b[?25l  Downloading https://files.pythonhosted.org/packages/1c/d5/c4382df6b6b978971f11287552f5c0acc54ea7bf8ce70a9c77d8a06531b2/ortools-7.6.7691-cp36-cp36m-manylinux1_x86_64.whl (28.9MB)\n",
            "\u001b[K     |████████████████████████████████| 28.9MB 110kB/s \n",
            "\u001b[?25hCollecting hyperdash\n",
            "  Downloading https://files.pythonhosted.org/packages/fb/a1/2606aa8a8c3bf083cb305dba3164cb00285f97db34080d63c22b6c413175/hyperdash-0.15.3.tar.gz\n",
            "Requirement already satisfied: numpy in /usr/local/lib/python3.6/dist-packages (from mlrose->-r /content/PtrNet_TSP_Solver/requirements.txt (line 1)) (1.18.3)\n",
            "Requirement already satisfied: sklearn in /usr/local/lib/python3.6/dist-packages (from mlrose->-r /content/PtrNet_TSP_Solver/requirements.txt (line 1)) (0.0)\n",
            "Requirement already satisfied: scipy in /usr/local/lib/python3.6/dist-packages (from mlrose->-r /content/PtrNet_TSP_Solver/requirements.txt (line 1)) (1.4.1)\n",
            "Collecting protobuf>=3.11.2\n",
            "\u001b[?25l  Downloading https://files.pythonhosted.org/packages/57/02/5432412c162989260fab61fa65e0a490c1872739eb91a659896e4d554b26/protobuf-3.11.3-cp36-cp36m-manylinux1_x86_64.whl (1.3MB)\n",
            "\u001b[K     |████████████████████████████████| 1.3MB 55.4MB/s \n",
            "\u001b[?25hRequirement already satisfied: six>=1.10 in /usr/local/lib/python3.6/dist-packages (from ortools->-r /content/PtrNet_TSP_Solver/requirements.txt (line 2)) (1.12.0)\n",
            "Requirement already satisfied: requests in /usr/local/lib/python3.6/dist-packages (from hyperdash->-r /content/PtrNet_TSP_Solver/requirements.txt (line 3)) (2.21.0)\n",
            "Requirement already satisfied: python-slugify in /usr/local/lib/python3.6/dist-packages (from hyperdash->-r /content/PtrNet_TSP_Solver/requirements.txt (line 3)) (4.0.0)\n",
            "Requirement already satisfied: scikit-learn in /usr/local/lib/python3.6/dist-packages (from sklearn->mlrose->-r /content/PtrNet_TSP_Solver/requirements.txt (line 1)) (0.22.2.post1)\n",
            "Requirement already satisfied: setuptools in /usr/local/lib/python3.6/dist-packages (from protobuf>=3.11.2->ortools->-r /content/PtrNet_TSP_Solver/requirements.txt (line 2)) (46.1.3)\n",
            "Requirement already satisfied: urllib3<1.25,>=1.21.1 in /usr/local/lib/python3.6/dist-packages (from requests->hyperdash->-r /content/PtrNet_TSP_Solver/requirements.txt (line 3)) (1.24.3)\n",
            "Requirement already satisfied: chardet<3.1.0,>=3.0.2 in /usr/local/lib/python3.6/dist-packages (from requests->hyperdash->-r /content/PtrNet_TSP_Solver/requirements.txt (line 3)) (3.0.4)\n",
            "Requirement already satisfied: idna<2.9,>=2.5 in /usr/local/lib/python3.6/dist-packages (from requests->hyperdash->-r /content/PtrNet_TSP_Solver/requirements.txt (line 3)) (2.8)\n",
            "Requirement already satisfied: certifi>=2017.4.17 in /usr/local/lib/python3.6/dist-packages (from requests->hyperdash->-r /content/PtrNet_TSP_Solver/requirements.txt (line 3)) (2020.4.5.1)\n",
            "Requirement already satisfied: text-unidecode>=1.3 in /usr/local/lib/python3.6/dist-packages (from python-slugify->hyperdash->-r /content/PtrNet_TSP_Solver/requirements.txt (line 3)) (1.3)\n",
            "Requirement already satisfied: joblib>=0.11 in /usr/local/lib/python3.6/dist-packages (from scikit-learn->sklearn->mlrose->-r /content/PtrNet_TSP_Solver/requirements.txt (line 1)) (0.14.1)\n",
            "Building wheels for collected packages: hyperdash\n",
            "  Building wheel for hyperdash (setup.py) ... \u001b[?25l\u001b[?25hdone\n",
            "  Created wheel for hyperdash: filename=hyperdash-0.15.3-cp36-none-any.whl size=28553 sha256=75e88b5e4599d41e7f2a3fd9e5a592cf4b6067c5fd491bd8a2901a122bb47b0c\n",
            "  Stored in directory: /root/.cache/pip/wheels/62/5f/af/bbcaeb6570e4904c14fb4c1b70fee559a3788182ce4d104ce7\n",
            "Successfully built hyperdash\n",
            "Installing collected packages: mlrose, protobuf, ortools, hyperdash\n",
            "  Found existing installation: protobuf 3.10.0\n",
            "    Uninstalling protobuf-3.10.0:\n",
            "      Successfully uninstalled protobuf-3.10.0\n",
            "Successfully installed hyperdash-0.15.3 mlrose-1.3.0 ortools-7.6.7691 protobuf-3.11.3\n"
          ],
          "name": "stdout"
        },
        {
          "output_type": "display_data",
          "data": {
            "application/vnd.colab-display-data+json": {
              "pip_warning": {
                "packages": [
                  "google"
                ]
              }
            }
          },
          "metadata": {
            "tags": []
          }
        }
      ]
    },
    {
      "cell_type": "code",
      "metadata": {
        "id": "EY0npr2mgcMR",
        "colab_type": "code",
        "outputId": "63c44ee6-e0de-4079-b05b-2fe787b394a6",
        "colab": {
          "base_uri": "https://localhost:8080/",
          "height": 34
        }
      },
      "source": [
        "cd PtrNet_TSP_Solver/"
      ],
      "execution_count": 0,
      "outputs": [
        {
          "output_type": "stream",
          "text": [
            "/content/PtrNet_TSP_Solver\n"
          ],
          "name": "stdout"
        }
      ]
    },
    {
      "cell_type": "code",
      "metadata": {
        "id": "UmqeUapl7Ota",
        "colab_type": "code",
        "colab": {}
      },
      "source": [
        "from runModel import *"
      ],
      "execution_count": 0,
      "outputs": []
    },
    {
      "cell_type": "code",
      "metadata": {
        "id": "EjD3vvplNjBw",
        "colab_type": "code",
        "outputId": "0171d3dd-bc6b-44fd-d29f-3f90746937d4",
        "colab": {
          "base_uri": "https://localhost:8080/",
          "height": 255
        }
      },
      "source": [
        "device = torch.device('cuda')\n",
        "model=load_model(\"model_10\")\n",
        "model.to(device)"
      ],
      "execution_count": 0,
      "outputs": [
        {
          "output_type": "execute_result",
          "data": {
            "text/plain": [
              "PointerNet(\n",
              "  (encoder): Encoder(\n",
              "    (embedding): Linear(in_features=2, out_features=128, bias=True)\n",
              "    (rnn): LSTM(128, 256, num_layers=2, dropout=0.1)\n",
              "  )\n",
              "  (decoder): Decoder(\n",
              "    (hid_out): Linear(in_features=512, out_features=256, bias=True)\n",
              "    (rnn): LSTMCell(128, 256)\n",
              "    (att): Attention(\n",
              "      (inp_layer): Linear(in_features=256, out_features=256, bias=True)\n",
              "      (context_layer): Conv1d(256, 256, kernel_size=(1,), stride=(1,))\n",
              "    )\n",
              "  )\n",
              ")"
            ]
          },
          "metadata": {
            "tags": []
          },
          "execution_count": 7
        }
      ]
    },
    {
      "cell_type": "code",
      "metadata": {
        "id": "YB0aTex1NoV0",
        "colab_type": "code",
        "colab": {}
      },
      "source": [
        "from tsp_solver import utils\n",
        "import torch\n",
        "solver=utils.BaselineSolver()\n",
        "solver.add_model(model,device)"
      ],
      "execution_count": 0,
      "outputs": []
    },
    {
      "cell_type": "code",
      "metadata": {
        "id": "dLDZEfRCOIE3",
        "colab_type": "code",
        "colab": {}
      },
      "source": [
        "import numpy as np\n",
        "except_alg=[\"Genetic\"]\n",
        "random_points=np.random.random((10, 2))\n",
        "results=solver.solve_all(random_points,returnTours=True,except_alg=except_alg)"
      ],
      "execution_count": 0,
      "outputs": []
    },
    {
      "cell_type": "code",
      "metadata": {
        "id": "uFnumkBEs4Qp",
        "colab_type": "code",
        "outputId": "e7640da5-173f-41c6-8f85-4979d4a0706d",
        "colab": {
          "base_uri": "https://localhost:8080/",
          "height": 54
        }
      },
      "source": [
        "print(results)"
      ],
      "execution_count": 0,
      "outputs": [
        {
          "output_type": "stream",
          "text": [
            "{'Nearest Neighbour': (2.8541694421143653, array([0, 4, 9, 6, 5, 1, 7, 8, 2, 3])), 'Farthest Neighbour': (5.3470349568970565, array([0, 3, 4, 8, 9, 2, 6, 7, 5, 1])), 'Optimal': (2.532098976636736, array([0, 2, 8, 7, 1, 5, 3, 6, 9, 4])), 'Google OR': (2.532098976636736, array([0, 4, 9, 6, 3, 5, 1, 7, 8, 2])), 'random': (3.6207867940871443, array([0, 4, 1, 3, 7, 5, 8, 2, 6, 9])), 'Nearest insertion': (3.1434185349375765, [2, 7, 8, 4, 0, 9, 3, 6, 5, 1]), 'Model': (2.555626595084729, [0, 4, 9, 6, 5, 3, 1, 7, 8, 2])}\n"
          ],
          "name": "stdout"
        }
      ]
    },
    {
      "cell_type": "markdown",
      "metadata": {
        "id": "-Fy_-MrtQkPP",
        "colab_type": "text"
      },
      "source": [
        "## Optimal Solution"
      ]
    },
    {
      "cell_type": "code",
      "metadata": {
        "id": "KKzlTYoIPhq5",
        "colab_type": "code",
        "outputId": "082932e6-ee52-45cd-94e2-55df588e5e65",
        "colab": {
          "base_uri": "https://localhost:8080/",
          "height": 265
        }
      },
      "source": [
        "utils.plotTSP([results[\"Optimal\"][1]],random_points.tolist())"
      ],
      "execution_count": 0,
      "outputs": [
        {
          "output_type": "display_data",
          "data": {
            "image/png": "[encoded data removed]",
            "text/plain": [
              "<Figure size 432x288 with 1 Axes>"
            ]
          },
          "metadata": {
            "tags": [],
            "needs_background": "light"
          }
        }
      ]
    },
    {
      "cell_type": "markdown",
      "metadata": {
        "id": "5HD_bbT2QncQ",
        "colab_type": "text"
      },
      "source": [
        "## PointerNet solution"
      ]
    },
    {
      "cell_type": "code",
      "metadata": {
        "id": "lyBZttBEPhty",
        "colab_type": "code",
        "outputId": "c5d87c58-d805-48b3-8967-a194f3004a3a",
        "colab": {
          "base_uri": "https://localhost:8080/",
          "height": 265
        }
      },
      "source": [
        "utils.plotTSP([results[\"Model\"][1]],random_points.tolist())"
      ],
      "execution_count": 0,
      "outputs": [
        {
          "output_type": "display_data",
          "data": {
            "image/png": "[encoded data removed]",
            "text/plain": [
              "<Figure size 432x288 with 1 Axes>"
            ]
          },
          "metadata": {
            "tags": [],
            "needs_background": "light"
          }
        }
      ]
    },
    {
      "cell_type": "markdown",
      "metadata": {
        "id": "E9s6xAOmQrqT",
        "colab_type": "text"
      },
      "source": [
        "## Random Solution"
      ]
    },
    {
      "cell_type": "code",
      "metadata": {
        "id": "Dei14HbbPhxt",
        "colab_type": "code",
        "outputId": "f4ed05f2-d5c6-4cc3-8dfa-13c462ee9362",
        "colab": {
          "base_uri": "https://localhost:8080/",
          "height": 265
        }
      },
      "source": [
        "utils.plotTSP([results[\"random\"][1]],random_points.tolist())"
      ],
      "execution_count": 0,
      "outputs": [
        {
          "output_type": "display_data",
          "data": {
            "image/png": "[encoded data removed]",
            "text/plain": [
              "<Figure size 432x288 with 1 Axes>"
            ]
          },
          "metadata": {
            "tags": [],
            "needs_background": "light"
          }
        }
      ]
    },
    {
      "cell_type": "markdown",
      "metadata": {
        "id": "vQuPzRCjQu9V",
        "colab_type": "text"
      },
      "source": [
        "## Nearest Neighbour Solution"
      ]
    },
    {
      "cell_type": "code",
      "metadata": {
        "id": "Pc2kGbAuQaYo",
        "colab_type": "code",
        "outputId": "2f56179d-8935-4097-dc2c-9a9d196f5a3f",
        "colab": {
          "base_uri": "https://localhost:8080/",
          "height": 265
        }
      },
      "source": [
        "utils.plotTSP([results[\"Nearest Neighbour\"][1]],random_points.tolist())"
      ],
      "execution_count": 0,
      "outputs": [
        {
          "output_type": "display_data",
          "data": {
            "image/png": "[encoded data removed]",
            "text/plain": [
              "<Figure size 432x288 with 1 Axes>"
            ]
          },
          "metadata": {
            "tags": [],
            "needs_background": "light"
          }
        }
      ]
    },
    {
      "cell_type": "markdown",
      "metadata": {
        "id": "Gbi0qevUQyHg",
        "colab_type": "text"
      },
      "source": [
        "## GOOGLE OR SOLUTION"
      ]
    },
    {
      "cell_type": "code",
      "metadata": {
        "id": "Xx4-J302Qfjb",
        "colab_type": "code",
        "outputId": "14d9683c-4de2-45d0-ffa0-8b71ba818428",
        "colab": {
          "base_uri": "https://localhost:8080/",
          "height": 265
        }
      },
      "source": [
        "utils.plotTSP([results[\"Google OR\"][1]],random_points.tolist())"
      ],
      "execution_count": 0,
      "outputs": [
        {
          "output_type": "display_data",
          "data": {
            "image/png": "[encoded data removed]",
            "text/plain": [
              "<Figure size 432x288 with 1 Axes>"
            ]
          },
          "metadata": {
            "tags": [],
            "needs_background": "light"
          }
        }
      ]
    },
    {
      "cell_type": "markdown",
      "metadata": {
        "id": "VPG8fLUhQ2hg",
        "colab_type": "text"
      },
      "source": [
        "## Genetic Algorithm Solution"
      ]
    },
    {
      "cell_type": "code",
      "metadata": {
        "id": "8WLTbKznQ7pC",
        "colab_type": "code",
        "outputId": "40b2248f-6526-45c8-fcc0-2eb344e2f224",
        "colab": {
          "base_uri": "https://localhost:8080/",
          "height": 164
        }
      },
      "source": [
        "utils.plotTSP([results[\"Genetic\"][1]],random_points.tolist())"
      ],
      "execution_count": 0,
      "outputs": [
        {
          "output_type": "error",
          "ename": "KeyError",
          "evalue": "ignored",
          "traceback": [
            "\u001b[0;31m---------------------------------------------------------------------------\u001b[0m",
            "\u001b[0;31mKeyError\u001b[0m                                  Traceback (most recent call last)",
            "\u001b[0;32m<ipython-input-76-a144d1acb513>\u001b[0m in \u001b[0;36m<module>\u001b[0;34m()\u001b[0m\n\u001b[0;32m----> 1\u001b[0;31m \u001b[0mutils\u001b[0m\u001b[0;34m.\u001b[0m\u001b[0mplotTSP\u001b[0m\u001b[0;34m(\u001b[0m\u001b[0;34m[\u001b[0m\u001b[0mresults\u001b[0m\u001b[0;34m[\u001b[0m\u001b[0;34m\"Genetic\"\u001b[0m\u001b[0;34m]\u001b[0m\u001b[0;34m[\u001b[0m\u001b[0;36m1\u001b[0m\u001b[0;34m]\u001b[0m\u001b[0;34m]\u001b[0m\u001b[0;34m,\u001b[0m\u001b[0mrandom_points\u001b[0m\u001b[0;34m.\u001b[0m\u001b[0mtolist\u001b[0m\u001b[0;34m(\u001b[0m\u001b[0;34m)\u001b[0m\u001b[0;34m)\u001b[0m\u001b[0;34m\u001b[0m\u001b[0;34m\u001b[0m\u001b[0m\n\u001b[0m",
            "\u001b[0;31mKeyError\u001b[0m: 'Genetic'"
          ]
        }
      ]
    },
    {
      "cell_type": "code",
      "metadata": {
        "id": "VL9evYOpRYii",
        "colab_type": "code",
        "colab": {}
      },
      "source": [
        ""
      ],
      "execution_count": 0,
      "outputs": []
    }
  ]
}