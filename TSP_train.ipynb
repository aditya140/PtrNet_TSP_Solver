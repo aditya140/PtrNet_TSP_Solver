{
  "nbformat": 4,
  "nbformat_minor": 0,
  "metadata": {
    "colab": {
      "name": "TSP_train.ipynb",
      "provenance": [],
      "collapsed_sections": [],
      "authorship_tag": "ABX9TyNKIyOveNXxTJTmdF2PrNOU",
      "include_colab_link": true
    },
    "kernelspec": {
      "name": "python3",
      "display_name": "Python 3"
    },
    "accelerator": "GPU"
  },
  "cells": [
    {
      "cell_type": "markdown",
      "metadata": {
        "id": "view-in-github",
        "colab_type": "text"
      },
      "source": [
        "<a href=\"https://colab.research.google.com/github/aditya140/PtrNet_TSP_Solver/blob/master/TSP_train.ipynb\" target=\"_parent\"><img src=\"https://colab.research.google.com/assets/colab-badge.svg\" alt=\"Open In Colab\"/></a>"
      ]
    },
    {
      "cell_type": "code",
      "metadata": {
        "id": "PAooHn98bGcT",
        "colab_type": "code",
        "outputId": "fd29d245-84df-4095-b6c5-cb38945a6cd2",
        "colab": {
          "base_uri": "https://localhost:8080/",
          "height": 820
        }
      },
      "source": [
        "!git clone https://github.com/aditya140/PtrNet_TSP_Solver.git\n",
        "!pip install -r /content/PtrNet_TSP_Solver/requirements.txt"
      ],
      "execution_count": 2,
      "outputs": [
        {
          "output_type": "stream",
          "text": [
            "Cloning into 'PtrNet_TSP_Solver'...\n",
            "remote: Enumerating objects: 269, done.\u001b[K\n",
            "remote: Counting objects: 100% (269/269), done.\u001b[K\n",
            "remote: Compressing objects: 100% (176/176), done.\u001b[K\n",
            "remote: Total 269 (delta 146), reused 185 (delta 75), pack-reused 0\u001b[K\n",
            "Receiving objects: 100% (269/269), 24.75 MiB | 20.89 MiB/s, done.\n",
            "Resolving deltas: 100% (146/146), done.\n",
            "Collecting mlrose\n",
            "  Downloading https://files.pythonhosted.org/packages/0d/f8/79e77a40f6e8988e3ecc9ead8a28024ee43df9c99fce2209037c9e6f9e4a/mlrose-1.3.0-py3-none-any.whl\n",
            "Collecting ortools\n",
            "\u001b[?25l  Downloading https://files.pythonhosted.org/packages/1c/d5/c4382df6b6b978971f11287552f5c0acc54ea7bf8ce70a9c77d8a06531b2/ortools-7.6.7691-cp36-cp36m-manylinux1_x86_64.whl (28.9MB)\n",
            "\u001b[K     |████████████████████████████████| 28.9MB 116kB/s \n",
            "\u001b[?25hCollecting hyperdash\n",
            "  Downloading https://files.pythonhosted.org/packages/fb/a1/2606aa8a8c3bf083cb305dba3164cb00285f97db34080d63c22b6c413175/hyperdash-0.15.3.tar.gz\n",
            "Requirement already satisfied: sklearn in /usr/local/lib/python3.6/dist-packages (from mlrose->-r /content/PtrNet_TSP_Solver/requirements.txt (line 1)) (0.0)\n",
            "Requirement already satisfied: scipy in /usr/local/lib/python3.6/dist-packages (from mlrose->-r /content/PtrNet_TSP_Solver/requirements.txt (line 1)) (1.4.1)\n",
            "Requirement already satisfied: numpy in /usr/local/lib/python3.6/dist-packages (from mlrose->-r /content/PtrNet_TSP_Solver/requirements.txt (line 1)) (1.18.3)\n",
            "Requirement already satisfied: six>=1.10 in /usr/local/lib/python3.6/dist-packages (from ortools->-r /content/PtrNet_TSP_Solver/requirements.txt (line 2)) (1.12.0)\n",
            "Collecting protobuf>=3.11.2\n",
            "\u001b[?25l  Downloading https://files.pythonhosted.org/packages/57/02/5432412c162989260fab61fa65e0a490c1872739eb91a659896e4d554b26/protobuf-3.11.3-cp36-cp36m-manylinux1_x86_64.whl (1.3MB)\n",
            "\u001b[K     |████████████████████████████████| 1.3MB 39.9MB/s \n",
            "\u001b[?25hRequirement already satisfied: requests in /usr/local/lib/python3.6/dist-packages (from hyperdash->-r /content/PtrNet_TSP_Solver/requirements.txt (line 3)) (2.23.0)\n",
            "Requirement already satisfied: python-slugify in /usr/local/lib/python3.6/dist-packages (from hyperdash->-r /content/PtrNet_TSP_Solver/requirements.txt (line 3)) (4.0.0)\n",
            "Requirement already satisfied: scikit-learn in /usr/local/lib/python3.6/dist-packages (from sklearn->mlrose->-r /content/PtrNet_TSP_Solver/requirements.txt (line 1)) (0.22.2.post1)\n",
            "Requirement already satisfied: setuptools in /usr/local/lib/python3.6/dist-packages (from protobuf>=3.11.2->ortools->-r /content/PtrNet_TSP_Solver/requirements.txt (line 2)) (46.1.3)\n",
            "Requirement already satisfied: urllib3!=1.25.0,!=1.25.1,<1.26,>=1.21.1 in /usr/local/lib/python3.6/dist-packages (from requests->hyperdash->-r /content/PtrNet_TSP_Solver/requirements.txt (line 3)) (1.24.3)\n",
            "Requirement already satisfied: certifi>=2017.4.17 in /usr/local/lib/python3.6/dist-packages (from requests->hyperdash->-r /content/PtrNet_TSP_Solver/requirements.txt (line 3)) (2020.4.5.1)\n",
            "Requirement already satisfied: idna<3,>=2.5 in /usr/local/lib/python3.6/dist-packages (from requests->hyperdash->-r /content/PtrNet_TSP_Solver/requirements.txt (line 3)) (2.9)\n",
            "Requirement already satisfied: chardet<4,>=3.0.2 in /usr/local/lib/python3.6/dist-packages (from requests->hyperdash->-r /content/PtrNet_TSP_Solver/requirements.txt (line 3)) (3.0.4)\n",
            "Requirement already satisfied: text-unidecode>=1.3 in /usr/local/lib/python3.6/dist-packages (from python-slugify->hyperdash->-r /content/PtrNet_TSP_Solver/requirements.txt (line 3)) (1.3)\n",
            "Requirement already satisfied: joblib>=0.11 in /usr/local/lib/python3.6/dist-packages (from scikit-learn->sklearn->mlrose->-r /content/PtrNet_TSP_Solver/requirements.txt (line 1)) (0.14.1)\n",
            "Building wheels for collected packages: hyperdash\n",
            "  Building wheel for hyperdash (setup.py) ... \u001b[?25l\u001b[?25hdone\n",
            "  Created wheel for hyperdash: filename=hyperdash-0.15.3-cp36-none-any.whl size=28553 sha256=d3ff0c473397cdc4c71e75d9876ed88cb409101626e95e4fdbb18658d88a18ee\n",
            "  Stored in directory: /root/.cache/pip/wheels/62/5f/af/bbcaeb6570e4904c14fb4c1b70fee559a3788182ce4d104ce7\n",
            "Successfully built hyperdash\n",
            "Installing collected packages: mlrose, protobuf, ortools, hyperdash\n",
            "  Found existing installation: protobuf 3.10.0\n",
            "    Uninstalling protobuf-3.10.0:\n",
            "      Successfully uninstalled protobuf-3.10.0\n",
            "Successfully installed hyperdash-0.15.3 mlrose-1.3.0 ortools-7.6.7691 protobuf-3.11.3\n"
          ],
          "name": "stdout"
        },
        {
          "output_type": "display_data",
          "data": {
            "application/vnd.colab-display-data+json": {
              "pip_warning": {
                "packages": [
                  "google"
                ]
              }
            }
          },
          "metadata": {
            "tags": []
          }
        }
      ]
    },
    {
      "cell_type": "code",
      "metadata": {
        "id": "9cgbVsF0bMNh",
        "colab_type": "code",
        "outputId": "16851d80-44e9-4f31-e295-a41597626c14",
        "colab": {
          "base_uri": "https://localhost:8080/",
          "height": 34
        }
      },
      "source": [
        "cd PtrNet_TSP_Solver/"
      ],
      "execution_count": 3,
      "outputs": [
        {
          "output_type": "stream",
          "text": [
            "/content/PtrNet_TSP_Solver\n"
          ],
          "name": "stdout"
        }
      ]
    },
    {
      "cell_type": "markdown",
      "metadata": {
        "id": "Yd3ER5-NnYik",
        "colab_type": "text"
      },
      "source": [
        "#Downoad Dataset"
      ]
    },
    {
      "cell_type": "code",
      "metadata": {
        "id": "8LSmB2FbbQpT",
        "colab_type": "code",
        "colab": {}
      },
      "source": [
        "!python download_dataset.py"
      ],
      "execution_count": 0,
      "outputs": []
    },
    {
      "cell_type": "markdown",
      "metadata": {
        "id": "MOJJhfsdncTx",
        "colab_type": "text"
      },
      "source": [
        "#Train Model\n",
        "5 pt model (default)\n",
        "change hparams file to train for 10 pt model"
      ]
    },
    {
      "cell_type": "code",
      "metadata": {
        "id": "4PderxfabSB_",
        "colab_type": "code",
        "colab": {
          "base_uri": "https://localhost:8080/",
          "height": 153
        },
        "outputId": "66910998-53a8-49c3-dc06-5a21e1ea2597"
      },
      "source": [
        "%timeit\n",
        "!python train.py"
      ],
      "execution_count": 5,
      "outputs": [
        {
          "output_type": "stream",
          "text": [
            "100% 1000/1000 [00:00<00:00, 656693.91data/s]\n",
            "100% 1000/1000 [00:00<00:00, 3448.61solve/s]\n",
            "Epoch: 01 | Time: 1m 31s\n",
            "\tTrain Loss: 1.430 | Train PPL:   4.178\n",
            "\t Val. Loss: 1.387 |  Val. PPL:   4.004\n",
            "Epoch: 02 | Time: 1m 31s\n",
            "\tTrain Loss: 1.376 | Train PPL:   3.959\n",
            "\t Val. Loss: 1.295 |  Val. PPL:   3.652\n"
          ],
          "name": "stdout"
        }
      ]
    },
    {
      "cell_type": "markdown",
      "metadata": {
        "id": "d7hObNZ-nktU",
        "colab_type": "text"
      },
      "source": [
        "# Test model\n",
        "Test the model on the file proveded in hparams (test_params)\n",
        "Modify hparams to test on different sizes of TSP sets"
      ]
    },
    {
      "cell_type": "code",
      "metadata": {
        "id": "BmqZPuphS0a9",
        "colab_type": "code",
        "colab": {
          "base_uri": "https://localhost:8080/",
          "height": 224
        },
        "outputId": "48e3df69-ca59-4a85-ec44-c1711e449e3e"
      },
      "source": [
        "!python test.py"
      ],
      "execution_count": 6,
      "outputs": [
        {
          "output_type": "stream",
          "text": [
            "/usr/local/lib/python3.6/dist-packages/sklearn/externals/six.py:31: FutureWarning: The module is deprecated in version 0.21 and will be removed in version 0.23 since we've dropped support for Python 2.7. Please rely on the official version of six (https://pypi.org/project/six/).\n",
            "  \"(https://pypi.org/project/six/).\", FutureWarning)\n",
            "  0% 0/1 [00:00<?, ?it/s]\n",
            "Nearest Neighbour     1.036027\n",
            "Farthest Neighbour    1.392166\n",
            "Google OR             1.000000\n",
            "random                1.189072\n",
            "Nearest insertion     1.222748\n",
            "Model                 1.076976\n",
            "Optimal               2.184910\n",
            "dtype: float64\n"
          ],
          "name": "stdout"
        }
      ]
    },
    {
      "cell_type": "markdown",
      "metadata": {
        "id": "_gpjIWMGnxPn",
        "colab_type": "text"
      },
      "source": [
        "#Generate Metrics and graphs\n",
        "The csv files have been pre generated (Please run the models again if you want to test your model).\n",
        "Follow the instructions in Readme.md if you want to run for your own files"
      ]
    },
    {
      "cell_type": "code",
      "metadata": {
        "id": "3TeXzZ7Gl6Jt",
        "colab_type": "code",
        "colab": {
          "base_uri": "https://localhost:8080/",
          "height": 34
        },
        "outputId": "8b0b0c57-79b8-4452-9d36-c74c6441877b"
      },
      "source": [
        "cd Results"
      ],
      "execution_count": 7,
      "outputs": [
        {
          "output_type": "stream",
          "text": [
            "/content/PtrNet_TSP_Solver/Results\n"
          ],
          "name": "stdout"
        }
      ]
    },
    {
      "cell_type": "code",
      "metadata": {
        "id": "3cnDcxu3prAh",
        "colab_type": "code",
        "colab": {},
        "cellView": "form"
      },
      "source": [
        "#@title Default title text\n",
        "model_type = 5 #@param [\"10\", \"5\"] {type:\"raw\"}\n"
      ],
      "execution_count": 0,
      "outputs": []
    },
    {
      "cell_type": "code",
      "metadata": {
        "id": "UxcJYl-1nw-K",
        "colab_type": "code",
        "colab": {}
      },
      "source": [
        "import glob\n",
        "files=glob.glob(f\"./model_{model_type}*\")\n",
        "import pandas as pd\n",
        "def clean(x):\n",
        "    if x<1:\n",
        "        x=1\n",
        "    return x\n",
        "df={}\n",
        "for file in files:\n",
        "    num_points=int(file.split(\".\")[-2].split('_')[-1][3:])\n",
        "    df[num_points]=pd.read_csv(file)\n",
        "    df[num_points][\"Model\"]=df[num_points][\"Model\"].apply(clean)"
      ],
      "execution_count": 0,
      "outputs": []
    },
    {
      "cell_type": "code",
      "metadata": {
        "id": "I2yWEAUuofwo",
        "colab_type": "code",
        "colab": {}
      },
      "source": [
        "x_ax=[]\n",
        "model=[]\n",
        "random=[]\n",
        "farthest_neighbour=[]\n",
        "nearest_insertion=[]\n",
        "nearest_neighbour=[]\n",
        "gor=[]\n",
        "for n in sorted(df.keys()):\n",
        "    x_ax.append(n)\n",
        "    model.append(df[n].mean()[\"Model\"])\n",
        "    random.append(df[n].mean()[\"random\"])\n",
        "    farthest_neighbour.append(df[n].mean()[\"Farthest Neighbour\"])\n",
        "    nearest_insertion.append(df[n].mean()[\"Nearest insertion\"])\n",
        "    # nearest_neighbour.append(df[n].mean()[\"Nearest Neighbour\"])\n",
        "    gor.append(df[n].mean()[\"Google OR\"])"
      ],
      "execution_count": 0,
      "outputs": []
    },
    {
      "cell_type": "code",
      "metadata": {
        "id": "uaXWiygTpczD",
        "colab_type": "code",
        "colab": {
          "base_uri": "https://localhost:8080/",
          "height": 279
        },
        "outputId": "4c9b16d1-85bf-4ce3-bd94-16f2a33360ed"
      },
      "source": [
        "import matplotlib.pyplot as plt\n",
        "plt.plot(x_ax,model ,'-r',markersize=4, linestyle='--', marker='o',label=f'Model {model_type} Points')\n",
        "plt.plot(x_ax,random,'-g',markersize=4, linestyle='--', marker='o',label='Random')\n",
        "plt.plot(x_ax,farthest_neighbour,'-y',markersize=4, linestyle='--', marker='o',label='Farthest Neighbour')\n",
        "plt.plot(x_ax,nearest_insertion,'-c',markersize=4, linestyle='--', marker='o',label='Nearest Insertion')\n",
        "# plt.plot(x_ax,nearest_neighbour,'-c',markersize=4, linestyle='--', marker='o',label='Nearest Insertion')\n",
        "plt.plot(x_ax,gor,'-b',markersize=4, linestyle='--', marker='o',label='Google OR tools')\n",
        "plt.legend()\n",
        "plt.ylabel('Optimality Gap')\n",
        "plt.xlabel('Number of points')\n",
        "plt.show()"
      ],
      "execution_count": 36,
      "outputs": [
        {
          "output_type": "display_data",
          "data": {
            "image/png": "[encoded data removed]",
            "text/plain": [
              "<Figure size 432x288 with 1 Axes>"
            ]
          },
          "metadata": {
            "tags": [],
            "needs_background": "light"
          }
        }
      ]
    },
    {
      "cell_type": "code",
      "metadata": {
        "id": "i_K1jdOopfMV",
        "colab_type": "code",
        "colab": {
          "base_uri": "https://localhost:8080/",
          "height": 366
        },
        "outputId": "240d5fc4-c243-4d25-c91f-3bfee2f72471"
      },
      "source": [
        "import matplotlib.pyplot as plt\n",
        "import numpy as np\n",
        "def set_axis_style(ax, labels):\n",
        "    ax.get_xaxis().set_tick_params(direction='out')\n",
        "    ax.xaxis.set_ticks_position('bottom')\n",
        "    ax.set_xticks(np.arange(1, len(labels) + 1))\n",
        "    ax.set_xticklabels(labels)\n",
        "    ax.set_xlim(0.25, len(labels) + 0.75)\n",
        "    ax.set_xlabel('Number of points')\n",
        "collectn_1 = df[5][\"Model\"]\n",
        "collectn_2 = df[10][\"Model\"]\n",
        "collectn_3 = df[15][\"Model\"]\n",
        "collectn_4 = df[20][\"Model\"]\n",
        "\n",
        "## combine these different collections into a list\n",
        "data_to_plot = [collectn_1, collectn_2, collectn_3, collectn_4]\n",
        "\n",
        "# Create a figure instance\n",
        "fig = plt.figure()\n",
        "\n",
        "# Create an axes instance\n",
        "ax = fig.add_axes([0,0,1,1])\n",
        "labels = ['5', '10', '15', '20']\n",
        "\n",
        "ax.set_ylabel('Oplimality Gap')\n",
        "ax.set_title(f'Model {model_type}')\n",
        "\n",
        "set_axis_style(ax, labels)\n",
        "# Create the boxplot\n",
        "bp = ax.violinplot(data_to_plot)\n",
        "# for pc in bp['bodies']:"
      ],
      "execution_count": 37,
      "outputs": [
        {
          "output_type": "display_data",
          "data": {
            "image/png": "[encoded data removed]",
            "text/plain": [
              "<Figure size 432x288 with 1 Axes>"
            ]
          },
          "metadata": {
            "tags": [],
            "needs_background": "light"
          }
        }
      ]
    },
    {
      "cell_type": "code",
      "metadata": {
        "id": "pCAod7eTplor",
        "colab_type": "code",
        "colab": {}
      },
      "source": [
        ""
      ],
      "execution_count": 0,
      "outputs": []
    }
  ]
}