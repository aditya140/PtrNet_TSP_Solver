{
  "nbformat": 4,
  "nbformat_minor": 0,
  "metadata": {
    "colab": {
      "name": "TSP_train.ipynb",
      "provenance": [],
      "collapsed_sections": [],
      "authorship_tag": "ABX9TyPmXmRo6K8ewXuaHAcHFRdT",
      "include_colab_link": true
    },
    "kernelspec": {
      "name": "python3",
      "display_name": "Python 3"
    },
    "accelerator": "GPU"
  },
  "cells": [
    {
      "cell_type": "markdown",
      "metadata": {
        "id": "view-in-github",
        "colab_type": "text"
      },
      "source": [
        "<a href=\"https://colab.research.google.com/github/aditya140/PtrNet_TSP_Solver/blob/master/TSP_train.ipynb\" target=\"_parent\"><img src=\"https://colab.research.google.com/assets/colab-badge.svg\" alt=\"Open In Colab\"/></a>"
      ]
    },
    {
      "cell_type": "code",
      "metadata": {
        "id": "PAooHn98bGcT",
        "colab_type": "code",
        "outputId": "21ddfc73-99b3-4cca-c219-5348d6771368",
        "colab": {
          "base_uri": "https://localhost:8080/",
          "height": 820
        }
      },
      "source": [
        "!git clone https://github.com/aditya140/PtrNet_TSP_Solver.git\n",
        "!pip install -r /content/PtrNet_TSP_Solver/requirements.txt"
      ],
      "execution_count": 0,
      "outputs": [
        {
          "output_type": "stream",
          "text": [
            "Cloning into 'PtrNet_TSP_Solver'...\n",
            "remote: Enumerating objects: 190, done.\u001b[K\n",
            "remote: Counting objects: 100% (190/190), done.\u001b[K\n",
            "remote: Compressing objects: 100% (119/119), done.\u001b[K\n",
            "remote: Total 190 (delta 104), reused 135 (delta 54), pack-reused 0\u001b[K\n",
            "Receiving objects: 100% (190/190), 11.22 MiB | 14.13 MiB/s, done.\n",
            "Resolving deltas: 100% (104/104), done.\n",
            "Collecting mlrose\n",
            "  Downloading https://files.pythonhosted.org/packages/0d/f8/79e77a40f6e8988e3ecc9ead8a28024ee43df9c99fce2209037c9e6f9e4a/mlrose-1.3.0-py3-none-any.whl\n",
            "Collecting ortools\n",
            "\u001b[?25l  Downloading https://files.pythonhosted.org/packages/1c/d5/c4382df6b6b978971f11287552f5c0acc54ea7bf8ce70a9c77d8a06531b2/ortools-7.6.7691-cp36-cp36m-manylinux1_x86_64.whl (28.9MB)\n",
            "\u001b[K     |████████████████████████████████| 28.9MB 113kB/s \n",
            "\u001b[?25hCollecting hyperdash\n",
            "  Downloading https://files.pythonhosted.org/packages/fb/a1/2606aa8a8c3bf083cb305dba3164cb00285f97db34080d63c22b6c413175/hyperdash-0.15.3.tar.gz\n",
            "Requirement already satisfied: sklearn in /usr/local/lib/python3.6/dist-packages (from mlrose->-r /content/PtrNet_TSP_Solver/requirements.txt (line 1)) (0.0)\n",
            "Requirement already satisfied: scipy in /usr/local/lib/python3.6/dist-packages (from mlrose->-r /content/PtrNet_TSP_Solver/requirements.txt (line 1)) (1.4.1)\n",
            "Requirement already satisfied: numpy in /usr/local/lib/python3.6/dist-packages (from mlrose->-r /content/PtrNet_TSP_Solver/requirements.txt (line 1)) (1.18.3)\n",
            "Requirement already satisfied: six>=1.10 in /usr/local/lib/python3.6/dist-packages (from ortools->-r /content/PtrNet_TSP_Solver/requirements.txt (line 2)) (1.12.0)\n",
            "Collecting protobuf>=3.11.2\n",
            "\u001b[?25l  Downloading https://files.pythonhosted.org/packages/57/02/5432412c162989260fab61fa65e0a490c1872739eb91a659896e4d554b26/protobuf-3.11.3-cp36-cp36m-manylinux1_x86_64.whl (1.3MB)\n",
            "\u001b[K     |████████████████████████████████| 1.3MB 37.4MB/s \n",
            "\u001b[?25hRequirement already satisfied: requests in /usr/local/lib/python3.6/dist-packages (from hyperdash->-r /content/PtrNet_TSP_Solver/requirements.txt (line 3)) (2.21.0)\n",
            "Requirement already satisfied: python-slugify in /usr/local/lib/python3.6/dist-packages (from hyperdash->-r /content/PtrNet_TSP_Solver/requirements.txt (line 3)) (4.0.0)\n",
            "Requirement already satisfied: scikit-learn in /usr/local/lib/python3.6/dist-packages (from sklearn->mlrose->-r /content/PtrNet_TSP_Solver/requirements.txt (line 1)) (0.22.2.post1)\n",
            "Requirement already satisfied: setuptools in /usr/local/lib/python3.6/dist-packages (from protobuf>=3.11.2->ortools->-r /content/PtrNet_TSP_Solver/requirements.txt (line 2)) (46.1.3)\n",
            "Requirement already satisfied: chardet<3.1.0,>=3.0.2 in /usr/local/lib/python3.6/dist-packages (from requests->hyperdash->-r /content/PtrNet_TSP_Solver/requirements.txt (line 3)) (3.0.4)\n",
            "Requirement already satisfied: certifi>=2017.4.17 in /usr/local/lib/python3.6/dist-packages (from requests->hyperdash->-r /content/PtrNet_TSP_Solver/requirements.txt (line 3)) (2020.4.5.1)\n",
            "Requirement already satisfied: idna<2.9,>=2.5 in /usr/local/lib/python3.6/dist-packages (from requests->hyperdash->-r /content/PtrNet_TSP_Solver/requirements.txt (line 3)) (2.8)\n",
            "Requirement already satisfied: urllib3<1.25,>=1.21.1 in /usr/local/lib/python3.6/dist-packages (from requests->hyperdash->-r /content/PtrNet_TSP_Solver/requirements.txt (line 3)) (1.24.3)\n",
            "Requirement already satisfied: text-unidecode>=1.3 in /usr/local/lib/python3.6/dist-packages (from python-slugify->hyperdash->-r /content/PtrNet_TSP_Solver/requirements.txt (line 3)) (1.3)\n",
            "Requirement already satisfied: joblib>=0.11 in /usr/local/lib/python3.6/dist-packages (from scikit-learn->sklearn->mlrose->-r /content/PtrNet_TSP_Solver/requirements.txt (line 1)) (0.14.1)\n",
            "Building wheels for collected packages: hyperdash\n",
            "  Building wheel for hyperdash (setup.py) ... \u001b[?25l\u001b[?25hdone\n",
            "  Created wheel for hyperdash: filename=hyperdash-0.15.3-cp36-none-any.whl size=28553 sha256=f8c21d31cc8445203f38b5688862a3c1e7befea76b6906db53784fb90691aa85\n",
            "  Stored in directory: /root/.cache/pip/wheels/62/5f/af/bbcaeb6570e4904c14fb4c1b70fee559a3788182ce4d104ce7\n",
            "Successfully built hyperdash\n",
            "Installing collected packages: mlrose, protobuf, ortools, hyperdash\n",
            "  Found existing installation: protobuf 3.10.0\n",
            "    Uninstalling protobuf-3.10.0:\n",
            "      Successfully uninstalled protobuf-3.10.0\n",
            "Successfully installed hyperdash-0.15.3 mlrose-1.3.0 ortools-7.6.7691 protobuf-3.11.3\n"
          ],
          "name": "stdout"
        },
        {
          "output_type": "display_data",
          "data": {
            "application/vnd.colab-display-data+json": {
              "pip_warning": {
                "packages": [
                  "google"
                ]
              }
            }
          },
          "metadata": {
            "tags": []
          }
        }
      ]
    },
    {
      "cell_type": "code",
      "metadata": {
        "id": "9cgbVsF0bMNh",
        "colab_type": "code",
        "outputId": "1711ef3c-2f11-497a-dd52-69adf563ddde",
        "colab": {
          "base_uri": "https://localhost:8080/",
          "height": 34
        }
      },
      "source": [
        "cd PtrNet_TSP_Solver/"
      ],
      "execution_count": 0,
      "outputs": [
        {
          "output_type": "stream",
          "text": [
            "/content/PtrNet_TSP_Solver\n"
          ],
          "name": "stdout"
        }
      ]
    },
    {
      "cell_type": "code",
      "metadata": {
        "id": "8LSmB2FbbQpT",
        "colab_type": "code",
        "colab": {}
      },
      "source": [
        "!python download_dataset.py"
      ],
      "execution_count": 0,
      "outputs": []
    },
    {
      "cell_type": "code",
      "metadata": {
        "id": "4PderxfabSB_",
        "colab_type": "code",
        "colab": {}
      },
      "source": [
        "%timeit\n",
        "!python train.py"
      ],
      "execution_count": 0,
      "outputs": []
    },
    {
      "cell_type": "code",
      "metadata": {
        "id": "BmqZPuphS0a9",
        "colab_type": "code",
        "colab": {}
      },
      "source": [
        "!python test.py"
      ],
      "execution_count": 0,
      "outputs": []
    }
  ]
}